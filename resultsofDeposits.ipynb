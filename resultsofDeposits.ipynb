{
 "cells": [
  {
   "cell_type": "markdown",
   "id": "e1d9d4a5-9e1b-4b36-92be-ff18244036f4",
   "metadata": {},
   "source": [
    "Importing the libraries"
   ]
  },
  {
   "cell_type": "code",
   "execution_count": 157,
   "id": "dc308555-c479-429a-a918-db3a5259eb48",
   "metadata": {},
   "outputs": [],
   "source": [
    "import numpy as np\n",
    "import pandas as pd\n",
    "import matplotlib.pyplot as plt\n",
    "import seaborn as sns"
   ]
  },
  {
   "cell_type": "code",
   "execution_count": 158,
   "id": "b1c19319-19cd-44ac-b106-2c6bf2534ad3",
   "metadata": {},
   "outputs": [
    {
     "name": "stdout",
     "output_type": "stream",
     "text": [
      "C:\\Users\\rusha\n"
     ]
    }
   ],
   "source": [
    "cd"
   ]
  },
  {
   "cell_type": "markdown",
   "id": "48a9065b-7027-4961-b3aa-4e860b517068",
   "metadata": {},
   "source": [
    "Reading the dataset"
   ]
  },
  {
   "cell_type": "code",
   "execution_count": 159,
   "id": "f4701970-c7d1-4377-9d5b-1dbce16d7515",
   "metadata": {},
   "outputs": [],
   "source": [
    "df = pd.read_csv(r\"C:\\Users\\rusha\\Downloads\\data.csv\")"
   ]
  },
  {
   "cell_type": "code",
   "execution_count": 160,
   "id": "08651eaf-aade-40bf-841c-262d05a0def8",
   "metadata": {},
   "outputs": [
    {
     "data": {
      "text/html": [
       "<div>\n",
       "<style scoped>\n",
       "    .dataframe tbody tr th:only-of-type {\n",
       "        vertical-align: middle;\n",
       "    }\n",
       "\n",
       "    .dataframe tbody tr th {\n",
       "        vertical-align: top;\n",
       "    }\n",
       "\n",
       "    .dataframe thead th {\n",
       "        text-align: right;\n",
       "    }\n",
       "</style>\n",
       "<table border=\"1\" class=\"dataframe\">\n",
       "  <thead>\n",
       "    <tr style=\"text-align: right;\">\n",
       "      <th></th>\n",
       "      <th>age</th>\n",
       "      <th>job</th>\n",
       "      <th>marital</th>\n",
       "      <th>education</th>\n",
       "      <th>default</th>\n",
       "      <th>balance</th>\n",
       "      <th>housing</th>\n",
       "      <th>loan</th>\n",
       "      <th>contact</th>\n",
       "      <th>day</th>\n",
       "      <th>month</th>\n",
       "      <th>duration</th>\n",
       "      <th>campaign</th>\n",
       "      <th>pdays</th>\n",
       "      <th>previous</th>\n",
       "      <th>poutcome</th>\n",
       "      <th>deposit</th>\n",
       "    </tr>\n",
       "  </thead>\n",
       "  <tbody>\n",
       "    <tr>\n",
       "      <th>0</th>\n",
       "      <td>38</td>\n",
       "      <td>technician</td>\n",
       "      <td>married</td>\n",
       "      <td>tertiary</td>\n",
       "      <td>no</td>\n",
       "      <td>127</td>\n",
       "      <td>yes</td>\n",
       "      <td>no</td>\n",
       "      <td>cellular</td>\n",
       "      <td>14</td>\n",
       "      <td>oct</td>\n",
       "      <td>113</td>\n",
       "      <td>1</td>\n",
       "      <td>50</td>\n",
       "      <td>2</td>\n",
       "      <td>success</td>\n",
       "      <td>no</td>\n",
       "    </tr>\n",
       "    <tr>\n",
       "      <th>1</th>\n",
       "      <td>41</td>\n",
       "      <td>housemaid</td>\n",
       "      <td>married</td>\n",
       "      <td>primary</td>\n",
       "      <td>no</td>\n",
       "      <td>365</td>\n",
       "      <td>no</td>\n",
       "      <td>no</td>\n",
       "      <td>cellular</td>\n",
       "      <td>8</td>\n",
       "      <td>aug</td>\n",
       "      <td>203</td>\n",
       "      <td>5</td>\n",
       "      <td>-1</td>\n",
       "      <td>0</td>\n",
       "      <td>unknown</td>\n",
       "      <td>no</td>\n",
       "    </tr>\n",
       "    <tr>\n",
       "      <th>2</th>\n",
       "      <td>39</td>\n",
       "      <td>management</td>\n",
       "      <td>single</td>\n",
       "      <td>tertiary</td>\n",
       "      <td>no</td>\n",
       "      <td>2454</td>\n",
       "      <td>yes</td>\n",
       "      <td>no</td>\n",
       "      <td>cellular</td>\n",
       "      <td>4</td>\n",
       "      <td>may</td>\n",
       "      <td>716</td>\n",
       "      <td>3</td>\n",
       "      <td>263</td>\n",
       "      <td>2</td>\n",
       "      <td>failure</td>\n",
       "      <td>yes</td>\n",
       "    </tr>\n",
       "    <tr>\n",
       "      <th>3</th>\n",
       "      <td>49</td>\n",
       "      <td>blue-collar</td>\n",
       "      <td>married</td>\n",
       "      <td>primary</td>\n",
       "      <td>no</td>\n",
       "      <td>6215</td>\n",
       "      <td>yes</td>\n",
       "      <td>no</td>\n",
       "      <td>cellular</td>\n",
       "      <td>11</td>\n",
       "      <td>may</td>\n",
       "      <td>549</td>\n",
       "      <td>1</td>\n",
       "      <td>-1</td>\n",
       "      <td>0</td>\n",
       "      <td>unknown</td>\n",
       "      <td>no</td>\n",
       "    </tr>\n",
       "    <tr>\n",
       "      <th>4</th>\n",
       "      <td>37</td>\n",
       "      <td>services</td>\n",
       "      <td>married</td>\n",
       "      <td>secondary</td>\n",
       "      <td>no</td>\n",
       "      <td>1694</td>\n",
       "      <td>yes</td>\n",
       "      <td>yes</td>\n",
       "      <td>cellular</td>\n",
       "      <td>29</td>\n",
       "      <td>jan</td>\n",
       "      <td>404</td>\n",
       "      <td>2</td>\n",
       "      <td>251</td>\n",
       "      <td>6</td>\n",
       "      <td>failure</td>\n",
       "      <td>no</td>\n",
       "    </tr>\n",
       "  </tbody>\n",
       "</table>\n",
       "</div>"
      ],
      "text/plain": [
       "   age          job  marital  education default  balance housing loan  \\\n",
       "0   38   technician  married   tertiary      no      127     yes   no   \n",
       "1   41    housemaid  married    primary      no      365      no   no   \n",
       "2   39   management   single   tertiary      no     2454     yes   no   \n",
       "3   49  blue-collar  married    primary      no     6215     yes   no   \n",
       "4   37     services  married  secondary      no     1694     yes  yes   \n",
       "\n",
       "    contact  day month  duration  campaign  pdays  previous poutcome deposit  \n",
       "0  cellular   14   oct       113         1     50         2  success      no  \n",
       "1  cellular    8   aug       203         5     -1         0  unknown      no  \n",
       "2  cellular    4   may       716         3    263         2  failure     yes  \n",
       "3  cellular   11   may       549         1     -1         0  unknown      no  \n",
       "4  cellular   29   jan       404         2    251         6  failure      no  "
      ]
     },
     "execution_count": 160,
     "metadata": {},
     "output_type": "execute_result"
    }
   ],
   "source": [
    "df.head()"
   ]
  },
  {
   "cell_type": "markdown",
   "id": "d297951c-b706-44db-bd78-7284aa4a0847",
   "metadata": {},
   "source": [
    "Checking the data"
   ]
  },
  {
   "cell_type": "code",
   "execution_count": 161,
   "id": "9a2ef541-42b1-4dec-bf0e-a24d5d989e6c",
   "metadata": {},
   "outputs": [],
   "source": [
    "count=df['deposit'].value_counts()"
   ]
  },
  {
   "cell_type": "code",
   "execution_count": 162,
   "id": "3c6d5a5b-f48d-4d04-a35e-4ae2e517a98a",
   "metadata": {},
   "outputs": [
    {
     "data": {
      "text/plain": [
       "no     4428\n",
       "yes    3943\n",
       "Name: deposit, dtype: int64"
      ]
     },
     "execution_count": 162,
     "metadata": {},
     "output_type": "execute_result"
    }
   ],
   "source": [
    "count"
   ]
  },
  {
   "cell_type": "code",
   "execution_count": 163,
   "id": "30d612fd-2c85-459a-b482-9f679d83ea66",
   "metadata": {},
   "outputs": [
    {
     "data": {
      "text/plain": [
       "<AxesSubplot:>"
      ]
     },
     "execution_count": 163,
     "metadata": {},
     "output_type": "execute_result"
    },
    {
     "data": {
      "image/png": "[encoded data removed]",
      "text/plain": [
       "<Figure size 432x288 with 1 Axes>"
      ]
     },
     "metadata": {
      "needs_background": "light"
     },
     "output_type": "display_data"
    }
   ],
   "source": [
    "count.plot(kind=\"bar\")"
   ]
  },
  {
   "cell_type": "code",
   "execution_count": 164,
   "id": "97e5c52a-e25b-40d7-8cc7-fc679d55c3a7",
   "metadata": {},
   "outputs": [
    {
     "data": {
      "text/plain": [
       "Text(0.5, 0, 'housing(0=no , 1=yes)')"
      ]
     },
     "execution_count": 164,
     "metadata": {},
     "output_type": "execute_result"
    },
    {
     "data": {
      "image/png": "[encoded data removed]",
      "text/plain": [
       "<Figure size 432x288 with 1 Axes>"
      ]
     },
     "metadata": {
      "needs_background": "light"
     },
     "output_type": "display_data"
    }
   ],
   "source": [
    "sns.countplot(x = \"housing\" ,data=df)\n",
    "plt.xlabel(\"housing(0=no , 1=yes)\")"
   ]
  },
  {
   "cell_type": "code",
   "execution_count": 165,
   "id": "9d158122-fba5-43bf-b0ec-71ce1398fecc",
   "metadata": {},
   "outputs": [
    {
     "data": {
      "text/plain": [
       "no     4354\n",
       "yes    4017\n",
       "Name: housing, dtype: int64"
      ]
     },
     "execution_count": 165,
     "metadata": {},
     "output_type": "execute_result"
    }
   ],
   "source": [
    "count=df['housing'].value_counts()\n",
    "count"
   ]
  },
  {
   "cell_type": "markdown",
   "id": "e87f1f69-7000-4998-9fb6-fb219f4cbfbd",
   "metadata": {},
   "source": [
    "We conclude from the above plot that \n",
    "\n",
    "1.  4354 individuals did not deposit the money\n",
    "\n",
    "2.  4017 individuals depositted the money"
   ]
  },
  {
   "cell_type": "markdown",
   "id": "d70584be-5521-4010-9f94-d424bba66450",
   "metadata": {},
   "source": [
    "Applying Machine Learning Techniques"
   ]
  },
  {
   "cell_type": "markdown",
   "id": "e8c2797e-f285-4f60-87cb-112c89df438b",
   "metadata": {},
   "source": [
    "Logistic Regression "
   ]
  },
  {
   "cell_type": "code",
   "execution_count": 166,
   "id": "0f8387a7-c694-4734-9c9e-c52ea26957f2",
   "metadata": {},
   "outputs": [],
   "source": [
    "from sklearn import linear_model\n",
    "from sklearn.linear_model import LogisticRegression\n",
    "from sklearn.model_selection import train_test_split\n",
    "from sklearn import preprocessing"
   ]
  },
  {
   "cell_type": "code",
   "execution_count": 167,
   "id": "a90ff5cc-5211-4d73-89d1-8150215ad3d1",
   "metadata": {},
   "outputs": [],
   "source": [
    "le=preprocessing.LabelEncoder()\n",
    "df=df.apply(le.fit_transform)"
   ]
  },
  {
   "cell_type": "code",
   "execution_count": 168,
   "id": "eb0bed15-9464-481d-a24b-a1a0cf86744a",
   "metadata": {},
   "outputs": [],
   "source": [
    "x= df.iloc[:,:-1].values\n",
    "y= df.iloc[:,-1].values"
   ]
  },
  {
   "cell_type": "code",
   "execution_count": 169,
   "id": "c0552e4c-0b54-4e6c-9559-5d0ef718fa45",
   "metadata": {},
   "outputs": [],
   "source": [
    "x_train, x_test, y_train, y_test = train_test_split(x,y,test_size = 0.2,random_state=0)"
   ]
  },
  {
   "cell_type": "code",
   "execution_count": 170,
   "id": "368d6cfc-a905-49ea-9d62-1c27fede7fe7",
   "metadata": {},
   "outputs": [
    {
     "name": "stderr",
     "output_type": "stream",
     "text": [
      "D:\\machinelearning\\lib\\site-packages\\sklearn\\linear_model\\_logistic.py:814: ConvergenceWarning: lbfgs failed to converge (status=1):\n",
      "STOP: TOTAL NO. of ITERATIONS REACHED LIMIT.\n",
      "\n",
      "Increase the number of iterations (max_iter) or scale the data as shown in:\n",
      "    https://scikit-learn.org/stable/modules/preprocessing.html\n",
      "Please also refer to the documentation for alternative solver options:\n",
      "    https://scikit-learn.org/stable/modules/linear_model.html#logistic-regression\n",
      "  n_iter_i = _check_optimize_result(\n"
     ]
    },
    {
     "data": {
      "text/plain": [
       "LogisticRegression()"
      ]
     },
     "execution_count": 170,
     "metadata": {},
     "output_type": "execute_result"
    }
   ],
   "source": [
    "lr=linear_model.LogisticRegression()\n",
    "lr.fit(x_train,y_train)"
   ]
  },
  {
   "cell_type": "code",
   "execution_count": 171,
   "id": "78456499-16b0-43ac-9e28-c84090c60001",
   "metadata": {},
   "outputs": [],
   "source": [
    "y_pred=lr.predict(x_test)"
   ]
  },
  {
   "cell_type": "code",
   "execution_count": 172,
   "id": "548d9fa2-5216-436a-887a-dc99f7b3caf8",
   "metadata": {},
   "outputs": [
    {
     "data": {
      "text/plain": [
       "array([0, 0, 1, ..., 0, 1, 1])"
      ]
     },
     "execution_count": 172,
     "metadata": {},
     "output_type": "execute_result"
    }
   ],
   "source": [
    "y_pred"
   ]
  },
  {
   "cell_type": "markdown",
   "id": "40737489-b4ec-4d27-a6f5-74063e84c4a5",
   "metadata": {},
   "source": [
    "Confusion Matrix"
   ]
  },
  {
   "cell_type": "code",
   "execution_count": 173,
   "id": "d499206c-9bed-43be-aed5-e513b1869133",
   "metadata": {},
   "outputs": [],
   "source": [
    "from sklearn.metrics import confusion_matrix\n",
    "cm=confusion_matrix(y_test,y_pred)"
   ]
  },
  {
   "cell_type": "code",
   "execution_count": 174,
   "id": "a3a8ef96-5c1f-467b-b3b3-620187ee4b9d",
   "metadata": {},
   "outputs": [
    {
     "data": {
      "text/plain": [
       "array([[716, 183],\n",
       "       [213, 563]], dtype=int64)"
      ]
     },
     "execution_count": 174,
     "metadata": {},
     "output_type": "execute_result"
    }
   ],
   "source": [
    "cm"
   ]
  },
  {
   "cell_type": "code",
   "execution_count": 175,
   "id": "f35e095e-b49b-4858-a5ce-f4ab0182d193",
   "metadata": {},
   "outputs": [
    {
     "data": {
      "text/plain": [
       "array([[3529,    0],\n",
       "       [   0, 3167]], dtype=int64)"
      ]
     },
     "execution_count": 175,
     "metadata": {},
     "output_type": "execute_result"
    }
   ],
   "source": [
    "confusion_matrix(y_train,y_train)"
   ]
  },
  {
   "cell_type": "code",
   "execution_count": 176,
   "id": "d398028b-79d2-4814-bf50-f5aa7d34bf31",
   "metadata": {},
   "outputs": [],
   "source": [
    "from sklearn.metrics import precision_score , recall_score"
   ]
  },
  {
   "cell_type": "code",
   "execution_count": 177,
   "id": "26f53975-621a-454e-afa9-729934e8fa6c",
   "metadata": {},
   "outputs": [
    {
     "data": {
      "text/plain": [
       "0.7546916890080428"
      ]
     },
     "execution_count": 177,
     "metadata": {},
     "output_type": "execute_result"
    }
   ],
   "source": [
    "precision_score(y_test,y_pred)"
   ]
  },
  {
   "cell_type": "code",
   "execution_count": 178,
   "id": "83c66d70-b124-41a8-b056-b708f0567d4e",
   "metadata": {},
   "outputs": [
    {
     "data": {
      "text/plain": [
       "0.7255154639175257"
      ]
     },
     "execution_count": 178,
     "metadata": {},
     "output_type": "execute_result"
    }
   ],
   "source": [
    "recall_score(y_test,y_pred)"
   ]
  },
  {
   "cell_type": "code",
   "execution_count": 179,
   "id": "e1dab9fb-dfe9-4267-be1e-abca0cd40cb4",
   "metadata": {},
   "outputs": [],
   "source": [
    "from sklearn.metrics import f1_score"
   ]
  },
  {
   "cell_type": "code",
   "execution_count": 180,
   "id": "2ff8d295-ff13-45c6-a792-a8a997d692f7",
   "metadata": {},
   "outputs": [
    {
     "data": {
      "text/plain": [
       "0.7398160315374506"
      ]
     },
     "execution_count": 180,
     "metadata": {},
     "output_type": "execute_result"
    }
   ],
   "source": [
    "f1_score(y_test,y_pred)"
   ]
  },
  {
   "cell_type": "code",
   "execution_count": 181,
   "id": "6e36045d-ef48-4dd1-99c3-796c8b383c2f",
   "metadata": {},
   "outputs": [],
   "source": [
    "accuracy=(716+563)/(716+183+213+563)"
   ]
  },
  {
   "cell_type": "code",
   "execution_count": 182,
   "id": "22eeb8b3-8955-402b-b89e-e575b0f8db6d",
   "metadata": {},
   "outputs": [
    {
     "data": {
      "text/plain": [
       "76.35820895522389"
      ]
     },
     "execution_count": 182,
     "metadata": {},
     "output_type": "execute_result"
    }
   ],
   "source": [
    "accuracy*100"
   ]
  },
  {
   "cell_type": "code",
   "execution_count": 183,
   "id": "bfd6e5e1-8b15-45a4-899f-8e3895ae09df",
   "metadata": {},
   "outputs": [],
   "source": [
    "from sklearn.metrics import classification_report"
   ]
  },
  {
   "cell_type": "code",
   "execution_count": 184,
   "id": "eb481383-8083-4351-81b3-177d5f8c4508",
   "metadata": {},
   "outputs": [
    {
     "name": "stdout",
     "output_type": "stream",
     "text": [
      "              precision    recall  f1-score   support\n",
      "\n",
      "           0       0.77      0.80      0.78       899\n",
      "           1       0.75      0.73      0.74       776\n",
      "\n",
      "    accuracy                           0.76      1675\n",
      "   macro avg       0.76      0.76      0.76      1675\n",
      "weighted avg       0.76      0.76      0.76      1675\n",
      "\n"
     ]
    }
   ],
   "source": [
    "print(classification_report(y_test,y_pred))"
   ]
  },
  {
   "cell_type": "markdown",
   "id": "9fdcbd94-d752-4c1d-b05f-e3bb6423b0ba",
   "metadata": {},
   "source": [
    "Decision Tree Matrix"
   ]
  },
  {
   "cell_type": "code",
   "execution_count": 185,
   "id": "27e551a5-128f-4eac-b4b0-3b14f2b38259",
   "metadata": {},
   "outputs": [
    {
     "name": "stdout",
     "output_type": "stream",
     "text": [
      "Decision Tree Test Accuracy 75.34%\n"
     ]
    }
   ],
   "source": [
    "from sklearn.tree import DecisionTreeClassifier\n",
    "dtc=DecisionTreeClassifier()\n",
    "dtc.fit(x_train,y_train)\n",
    "print(\"Decision Tree Test Accuracy {:.2f}%\".format(dtc.score(x_test,y_test)*100))"
   ]
  },
  {
   "cell_type": "markdown",
   "id": "fe83426e-1f0f-43f6-8af3-0b8152986b19",
   "metadata": {},
   "source": [
    "Random Forest Matrix"
   ]
  },
  {
   "cell_type": "code",
   "execution_count": 186,
   "id": "1603ed5f-f5ad-41e5-8f17-9f29efe03172",
   "metadata": {},
   "outputs": [
    {
     "name": "stdout",
     "output_type": "stream",
     "text": [
      "Random Forest Algorithm Accuracy Score : 83.52%\n"
     ]
    }
   ],
   "source": [
    "from sklearn.ensemble import RandomForestClassifier\n",
    "rf = RandomForestClassifier(n_estimators = 1000, random_state = 1)\n",
    "rf.fit(x_train, y_train)\n",
    "print(\"Random Forest Algorithm Accuracy Score : {:.2f}%\".format(rf.score(x_test,y_test)*100))"
   ]
  }
 ],
 "metadata": {
  "kernelspec": {
   "display_name": "Python 3 (ipykernel)",
   "language": "python",
   "name": "python3"
  },
  "language_info": {
   "codemirror_mode": {
    "name": "ipython",
    "version": 3
   },
   "file_extension": ".py",
   "mimetype": "text/x-python",
   "name": "python",
   "nbconvert_exporter": "python",
   "pygments_lexer": "ipython3",
   "version": "3.9.12"
  }
 },
 "nbformat": 4,
 "nbformat_minor": 5
}
